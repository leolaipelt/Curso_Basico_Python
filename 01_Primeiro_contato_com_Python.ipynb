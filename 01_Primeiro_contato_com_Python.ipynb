{
 "cells": [
  {
   "cell_type": "markdown",
   "metadata": {},
   "source": [
    "# O mínimo que você precisa saber para começar a estudar Python"
   ]
  },
  {
   "cell_type": "markdown",
   "metadata": {},
   "source": [
    "## Seguindo a tradição: \"Hello World\""
   ]
  },
  {
   "cell_type": "markdown",
   "metadata": {},
   "source": [
    "A primeira função que iremos aprender é a famosa \"print\". Com ela podemos imprimir no código algumas mensagens, como \"Hello World\""
   ]
  },
  {
   "cell_type": "code",
   "execution_count": 1,
   "metadata": {},
   "outputs": [
    {
     "name": "stdout",
     "output_type": "stream",
     "text": [
      "Hello World\n"
     ]
    }
   ],
   "source": [
    "print(\"Hello World\")"
   ]
  },
  {
   "cell_type": "markdown",
   "metadata": {},
   "source": [
    "Como \"Hello World\" é uma # string, devemos declarar entre \"\""
   ]
  },
  {
   "cell_type": "code",
   "execution_count": 2,
   "metadata": {},
   "outputs": [
    {
     "name": "stdout",
     "output_type": "stream",
     "text": [
      "10\n"
     ]
    }
   ],
   "source": [
    "print(10)"
   ]
  },
  {
   "cell_type": "markdown",
   "metadata": {},
   "source": [
    "Como 10 é um int (inteiro) não precisamos colocar entre \"\""
   ]
  },
  {
   "cell_type": "markdown",
   "metadata": {},
   "source": [
    "### Sobre Types de dados"
   ]
  },
  {
   "cell_type": "markdown",
   "metadata": {},
   "source": [
    "A linguagem Python considera todas as informações como objtevos. Cada objeto possui um tipo (Type):\n",
    "\n",
    "Int - números inteiros;\n",
    "Float - números reais;\n",
    "Str - texto;\n",
    "Bool - booleanos (True or False);\n",
    "\n",
    "Em algumas linguagens é necessário declarar qual é o tipo, contudo Pyhton compreende automáticamente (praticamente todas as vezes)."
   ]
  },
  {
   "cell_type": "markdown",
   "metadata": {},
   "source": [
    "## Operações básicas"
   ]
  },
  {
   "cell_type": "markdown",
   "metadata": {},
   "source": [
    "Praticamente todas as linguagens de programação realizam operações matemáticas, e isso serve para o Python também"
   ]
  },
  {
   "cell_type": "code",
   "execution_count": 3,
   "metadata": {},
   "outputs": [
    {
     "data": {
      "text/plain": [
       "3"
      ]
     },
     "execution_count": 3,
     "metadata": {},
     "output_type": "execute_result"
    }
   ],
   "source": [
    "1+2"
   ]
  },
  {
   "cell_type": "code",
   "execution_count": 4,
   "metadata": {},
   "outputs": [
    {
     "data": {
      "text/plain": [
       "10"
      ]
     },
     "execution_count": 4,
     "metadata": {},
     "output_type": "execute_result"
    }
   ],
   "source": [
    "2*5\n"
   ]
  },
  {
   "cell_type": "code",
   "execution_count": 8,
   "metadata": {},
   "outputs": [
    {
     "data": {
      "text/plain": [
       "2"
      ]
     },
     "execution_count": 8,
     "metadata": {},
     "output_type": "execute_result"
    }
   ],
   "source": [
    "4/2"
   ]
  },
  {
   "cell_type": "markdown",
   "metadata": {},
   "source": [
    "### Falando um pouco mais sobre variáveis"
   ]
  },
  {
   "cell_type": "markdown",
   "metadata": {},
   "source": [
    "Quando elaboramos scripts, precisamos interagir com determinadas informações ao longo do código. Para isso, atribuimos valores a variáveis.\n",
    "\n",
    "Variável é um espaço na memória que armazena a informação que você atribuiu."
   ]
  },
  {
   "cell_type": "code",
   "execution_count": 9,
   "metadata": {},
   "outputs": [],
   "source": [
    "a=1"
   ]
  },
  {
   "cell_type": "code",
   "execution_count": 10,
   "metadata": {},
   "outputs": [],
   "source": [
    "b=2"
   ]
  },
  {
   "cell_type": "code",
   "execution_count": 11,
   "metadata": {},
   "outputs": [
    {
     "data": {
      "text/plain": [
       "3"
      ]
     },
     "execution_count": 11,
     "metadata": {},
     "output_type": "execute_result"
    }
   ],
   "source": [
    "a+b"
   ]
  },
  {
   "cell_type": "markdown",
   "metadata": {},
   "source": [
    "## Estruturas de Dados no Python"
   ]
  },
  {
   "cell_type": "markdown",
   "metadata": {},
   "source": [
    "O Python apresenta alguns tipos de de dados já disponíveis para utilizarmos nos códigos. Eles são:\n\n",
    "\n"
   ]
  },
  {
   "cell_type": "markdown",
   "metadata": {},
   "source": [
    "-Dicionário (dict) \n"
   ]
  },
  {
   "cell_type": "markdown",
   "metadata": {},
   "source": [
    "-Lista (list) \n"
   ]
  },
  {
   "cell_type": "markdown",
   "metadata": {},
   "source": [
    "-Tuplo (tuple)\n"
   ]
  },
  {
   "cell_type": "code",
   "execution_count": 9,
   "metadata": {},
   "outputs": [],
   "source": [
    "#criando uma lista\n",
    "list = [1,2,3,4,5,'exemplo']"
   ]
  },
  {
   "cell_type": "code",
   "execution_count": 10,
   "metadata": {},
   "outputs": [
    {
     "data": {
      "text/plain": [
       "1"
      ]
     },
     "execution_count": 10,
     "metadata": {},
     "output_type": "execute_result"
    }
   ],
   "source": [
    "#acessando a lista:\n",
    "list[0]"
   ]
  },
  {
   "cell_type": "code",
   "execution_count": 11,
   "metadata": {},
   "outputs": [
    {
     "data": {
      "text/plain": [
       "'exemplo'"
      ]
     },
     "execution_count": 11,
     "metadata": {},
     "output_type": "execute_result"
    }
   ],
   "source": [
    "#Perceba que a gente acessou a primeira posição da lista com \"0\"\n",
    "#Para acessar a última de uma lista de 6 elementos (nosso exemplo) o acesso é por meio do valor 5\n",
    "list[5]"
   ]
  },
  {
   "cell_type": "code",
   "execution_count": 12,
   "metadata": {},
   "outputs": [],
   "source": [
    "#criando um tuplo\n",
    "tuple=(1,2,3,4,5,'exemplo')"
   ]
  },
  {
   "cell_type": "code",
   "execution_count": 19,
   "metadata": {},
   "outputs": [
    {
     "data": {
      "text/plain": [
       "1"
      ]
     },
     "execution_count": 19,
     "metadata": {},
     "output_type": "execute_result"
    }
   ],
   "source": [
    "#acesando\n",
    "tuple[0]"
   ]
  },
  {
   "cell_type": "code",
   "execution_count": 24,
   "metadata": {},
   "outputs": [],
   "source": [
    "#criando um dicionário\n",
    "dict={'Nome': 'Leo', 'Curso':'Engenharia'}"
   ]
  },
  {
   "cell_type": "code",
   "execution_count": 25,
   "metadata": {},
   "outputs": [
    {
     "data": {
      "text/plain": [
       "{'Curso': 'Engenharia', 'Nome': 'Leo'}"
      ]
     },
     "execution_count": 25,
     "metadata": {},
     "output_type": "execute_result"
    }
   ],
   "source": [
    "dict"
   ]
  },
  {
   "cell_type": "code",
   "execution_count": 23,
   "metadata": {},
   "outputs": [
    {
     "data": {
      "text/plain": [
       "'Engenharia'"
      ]
     },
     "execution_count": 23,
     "metadata": {},
     "output_type": "execute_result"
    }
   ],
   "source": [
    "dict['Curso'] #Acessando as informações presentes na lista \"Curso\""
   ]
  },
  {
   "cell_type": "markdown",
   "metadata": {},
   "source": [
    "## Funções"
   ]
  },
  {
   "cell_type": "markdown",
   "metadata": {},
   "source": [
    "Uma das ferramentas mais importantes do Pyhton, as funções são basicamente blocos de códigos que ao serem executadas retornam uma resposta.\n",
    "\n",
    "A estrutura da função é a seguinte:"
   ]
  },
  {
   "cell_type": "raw",
   "metadata": {},
   "source": [
    "def nome_da_funcao(variaveis_da_funcao):\n",
    "    Linha de código...\n",
    "    ...\n",
    "    return valor calculado"
   ]
  },
  {
   "cell_type": "markdown",
   "metadata": {},
   "source": [
    "### Alguns exemplos:"
   ]
  },
  {
   "cell_type": "code",
   "execution_count": 26,
   "metadata": {},
   "outputs": [],
   "source": [
    "def calculadora_multiplicadora (x,y):\n",
    "    A=x*y;\n",
    "    return A"
   ]
  },
  {
   "cell_type": "code",
   "execution_count": 28,
   "metadata": {},
   "outputs": [
    {
     "data": {
      "text/plain": [
       "6"
      ]
     },
     "execution_count": 28,
     "metadata": {},
     "output_type": "execute_result"
    }
   ],
   "source": [
    "#rodando a nossa calculadora\n",
    "calculadora_multiplicadora(2,3)"
   ]
  },
  {
   "cell_type": "markdown",
   "metadata": {},
   "source": [
    "#### Dicas importantes!"
   ]
  },
  {
   "cell_type": "markdown",
   "metadata": {},
   "source": [
    "Python é uma linguagem identada!!! Logo, o alinhamento da linha dos códigos importa! Ao declarar uma função, deve-se respeitar o espaçamento de linha indicado, voltando para o espaçamento anterior (da linha de chamamento da função) quando a função termina!"
   ]
  },
  {
   "cell_type": "code",
   "execution_count": 34,
   "metadata": {},
   "outputs": [],
   "source": [
    "def Um_bom_dia(Nome):\n",
    "    print(\"Bom dia\", Nome)"
   ]
  },
  {
   "cell_type": "code",
   "execution_count": 35,
   "metadata": {},
   "outputs": [
    {
     "name": "stdout",
     "output_type": "stream",
     "text": [
      "('Bom dia', 'Turma')\n"
     ]
    }
   ],
   "source": [
    "Um_bom_dia(\"Turma\")"
   ]
  },
  {
   "cell_type": "markdown",
   "metadata": {},
   "source": [
    "## Métodos associados:"
   ]
  },
  {
   "cell_type": "markdown",
   "metadata": {},
   "source": [
    "Quando estamos falando de strings, dicionários, listas, esses possuem alguns métodos associados. Basicamente, são ferramentas inseridas dentro da função utilizada. \n",
    "\n",
    "### Podemos explicar melhor com alguns exemplos: métodos associados às strings"
   ]
  },
  {
   "cell_type": "code",
   "execution_count": 41,
   "metadata": {},
   "outputs": [],
   "source": [
    "string=\"Esse curso de Python e muito legal!\"\n"
   ]
  },
  {
   "cell_type": "code",
   "execution_count": 42,
   "metadata": {},
   "outputs": [],
   "source": [
    "Nova_string=string.replace(\"muito legal\",\"pessimo\")"
   ]
  },
  {
   "cell_type": "code",
   "execution_count": 43,
   "metadata": {},
   "outputs": [
    {
     "data": {
      "text/plain": [
       "'Esse curso de Python e pessimo!'"
      ]
     },
     "execution_count": 43,
     "metadata": {},
     "output_type": "execute_result"
    }
   ],
   "source": [
    "Nova_string"
   ]
  },
  {
   "cell_type": "code",
   "execution_count": 47,
   "metadata": {},
   "outputs": [],
   "source": [
    "Procurando_um_inicio_de_texto=string.startswith(\"Python\")"
   ]
  },
  {
   "cell_type": "code",
   "execution_count": 48,
   "metadata": {},
   "outputs": [
    {
     "data": {
      "text/plain": [
       "False"
      ]
     },
     "execution_count": 48,
     "metadata": {},
     "output_type": "execute_result"
    }
   ],
   "source": [
    "Procurando_um_inicio_de_texto"
   ]
  },
  {
   "cell_type": "code",
   "execution_count": 49,
   "metadata": {},
   "outputs": [],
   "source": [
    "Procurando_um_inicio_de_texto=string.startswith(\"Esse\")"
   ]
  },
  {
   "cell_type": "code",
   "execution_count": 50,
   "metadata": {},
   "outputs": [
    {
     "data": {
      "text/plain": [
       "True"
      ]
     },
     "execution_count": 50,
     "metadata": {},
     "output_type": "execute_result"
    }
   ],
   "source": [
    "Procurando_um_inicio_de_texto"
   ]
  },
  {
   "cell_type": "code",
   "execution_count": 54,
   "metadata": {},
   "outputs": [],
   "source": [
    "Contando_quantas_vezes_aparece=string.count('i')"
   ]
  },
  {
   "cell_type": "code",
   "execution_count": 55,
   "metadata": {},
   "outputs": [
    {
     "data": {
      "text/plain": [
       "1"
      ]
     },
     "execution_count": 55,
     "metadata": {},
     "output_type": "execute_result"
    }
   ],
   "source": [
    "Contando_quantas_vezes_aparece"
   ]
  },
  {
   "cell_type": "markdown",
   "metadata": {},
   "source": [
    "### Métodos associados a dicionários"
   ]
  },
  {
   "cell_type": "code",
   "execution_count": 61,
   "metadata": {},
   "outputs": [],
   "source": [
    "dicionario={'Notas':[10,5,7,4,2,8],'Alunos':[\"Leo\",\"Leonardo\",\"Leonard\",\"Leona\",\"Leandro\",\"Leticia\"]}"
   ]
  },
  {
   "cell_type": "code",
   "execution_count": 62,
   "metadata": {},
   "outputs": [
    {
     "data": {
      "text/plain": [
       "['Alunos', 'Notas']"
      ]
     },
     "execution_count": 62,
     "metadata": {},
     "output_type": "execute_result"
    }
   ],
   "source": [
    "dicionario.keys()"
   ]
  },
  {
   "cell_type": "code",
   "execution_count": 63,
   "metadata": {},
   "outputs": [
    {
     "data": {
      "text/plain": [
       "[('Alunos', ['Leo', 'Leonardo', 'Leonard', 'Leona', 'Leandro', 'Leticia']),\n",
       " ('Notas', [10, 5, 7, 4, 2, 8])]"
      ]
     },
     "execution_count": 63,
     "metadata": {},
     "output_type": "execute_result"
    }
   ],
   "source": [
    "dicionario.items()"
   ]
  },
  {
   "cell_type": "code",
   "execution_count": 65,
   "metadata": {},
   "outputs": [
    {
     "data": {
      "text/plain": [
       "['Leo', 'Leonardo', 'Leonard', 'Leona', 'Leandro', 'Leticia']"
      ]
     },
     "execution_count": 65,
     "metadata": {},
     "output_type": "execute_result"
    }
   ],
   "source": [
    "dicionario.pop('Alunos')"
   ]
  },
  {
   "cell_type": "code",
   "execution_count": 66,
   "metadata": {},
   "outputs": [
    {
     "data": {
      "text/plain": [
       "[[10, 5, 7, 4, 2, 8]]"
      ]
     },
     "execution_count": 66,
     "metadata": {},
     "output_type": "execute_result"
    }
   ],
   "source": [
    "dicionario.values()"
   ]
  },
  {
   "cell_type": "markdown",
   "metadata": {},
   "source": [
    "## If, else "
   ]
  },
  {
   "cell_type": "markdown",
   "metadata": {},
   "source": [
    "São variáveis importantíssimas para tomada de decisões nos códigos!"
   ]
  },
  {
   "cell_type": "markdown",
   "metadata": {},
   "source": [
    "Como funciona:"
   ]
  },
  {
   "cell_type": "raw",
   "metadata": {},
   "source": [
    "if uma condicao:\n",
    "    realizar algo\n",
    "else \n",
    "    realizar outra coisa"
   ]
  },
  {
   "cell_type": "markdown",
   "metadata": {},
   "source": [
    " com muitas condições podemos escrever assim:\n"
   ]
  },
  {
   "cell_type": "raw",
   "metadata": {},
   "source": [
    "if uma condicao:\n",
    "    realizar algo\n",
    "elif \n",
    "    realizar outra coisa\n",
    "else\n",
    "    realizar outra coisa da outra coisa"
   ]
  },
  {
   "cell_type": "code",
   "execution_count": 70,
   "metadata": {},
   "outputs": [
    {
     "name": "stdout",
     "output_type": "stream",
     "text": [
      "Eu sou o numero 4\n"
     ]
    }
   ],
   "source": [
    "#Exemplo\n",
    "x=4;\n",
    "\n",
    "if x>4:\n",
    "    print(\"Eu sou um numero maior que 4\")\n",
    "elif x==4:\n",
    "    print(\"Eu sou o numero 4\")\n",
    "else:\n",
    "    print(\"Eu sou um numero menor que 4\")"
   ]
  },
  {
   "cell_type": "markdown",
   "metadata": {},
   "source": [
    "## Loopings"
   ]
  },
  {
   "cell_type": "markdown",
   "metadata": {},
   "source": [
    "Chega de realizar trabalhos repetitivos. Vamos utilizar o Python para realizar as atividades repretitivas que queremos!"
   ]
  },
  {
   "cell_type": "markdown",
   "metadata": {},
   "source": [
    "### For"
   ]
  },
  {
   "cell_type": "raw",
   "metadata": {},
   "source": [
    "##Como declaramos for\n",
    "\n",
    "for variavel_temporaria_criada_para_o_looping in alguma_coisa:\n",
    "    faça algo até o looping terminar"
   ]
  },
  {
   "cell_type": "code",
   "execution_count": 78,
   "metadata": {},
   "outputs": [
    {
     "name": "stdout",
     "output_type": "stream",
     "text": [
      "1\n",
      "2\n",
      "3\n",
      "4\n",
      "5\n",
      "6\n",
      "7\n",
      "8\n",
      "9\n"
     ]
    }
   ],
   "source": [
    "for n in range(1,10,1):\n",
    "    print n"
   ]
  },
  {
   "cell_type": "code",
   "execution_count": 79,
   "metadata": {},
   "outputs": [
    {
     "name": "stdout",
     "output_type": "stream",
     "text": [
      "Esse numero e menor que 5\n",
      "Esse numero e menor que 5\n",
      "Esse numero e menor que 5\n",
      "Esse numero e menor que 5\n",
      "Esse numero e menor que 5\n",
      "Esse numero e maior que 5\n",
      "Esse numero e maior que 5\n",
      "Esse numero e maior que 5\n",
      "Esse numero e maior que 5\n",
      "Esse numero e maior que 5\n"
     ]
    }
   ],
   "source": [
    "for i in range(10):\n",
    "    if i<5:\n",
    "        print(\"Esse numero e menor que 5\")\n",
    "    else:\n",
    "        print(\"Esse numero e maior que 5\")"
   ]
  },
  {
   "cell_type": "markdown",
   "metadata": {},
   "source": [
    "### While"
   ]
  },
  {
   "cell_type": "markdown",
   "metadata": {},
   "source": [
    " Mesma lógica do For, contudo o looping é realizado  declarando de outra maneira a condicao:"
   ]
  },
  {
   "cell_type": "code",
   "execution_count": 83,
   "metadata": {},
   "outputs": [
    {
     "name": "stdout",
     "output_type": "stream",
     "text": [
      " 1\n",
      "2\n",
      "3\n",
      "4\n",
      "5\n",
      "6\n",
      "7\n",
      "8\n",
      "9\n"
     ]
    }
   ],
   "source": [
    "i=1\n",
    "while i <10:\n",
    "    print i\n",
    "    i=i+1"
   ]
  },
  {
   "cell_type": "markdown",
   "metadata": {},
   "source": [
    "### Criando classes!"
   ]
  },
  {
   "cell_type": "markdown",
   "metadata": {},
   "source": [
    "No python, os objetos são criados através de classes.  Uma classe é uma entidade no sistema que possui características e métodos!"
   ]
  },
  {
   "cell_type": "raw",
   "metadata": {},
   "source": [
    "Criando uma classe\n",
    "\n",
    "class O_seu_nome(object):\n",
    "    #Alguns atributos\n",
    "    def Metodo1 (variaveis):\n",
    "        .....\n",
    "    def Metodo2 (variaveis):\n",
    "        ......"
   ]
  },
  {
   "cell_type": "code",
   "execution_count": 97,
   "metadata": {},
   "outputs": [],
   "source": [
    "class Bom_dia(object):\n",
    "    def __init__(self, nome):\n",
    "        self.nome=nome\n",
    "    def Mandar_bomdia(self):\n",
    "        print (\"Bom dia %s\" %self.nome)"
   ]
  },
  {
   "cell_type": "code",
   "execution_count": 104,
   "metadata": {},
   "outputs": [],
   "source": [
    "Classe_principal=Bom_dia(\"Leo\")"
   ]
  },
  {
   "cell_type": "code",
   "execution_count": 105,
   "metadata": {},
   "outputs": [
    {
     "name": "stdout",
     "output_type": "stream",
     "text": [
      "Bom dia Leo\n"
     ]
    }
   ],
   "source": [
    "Classe_principal.Mandar_bomdia()"
   ]
  },
  {
   "cell_type": "code",
   "execution_count": null,
   "metadata": {},
   "outputs": [],
   "source": []
  }
 ],
 "metadata": {
  "kernelspec": {
   "display_name": "Python 2",
   "language": "python",
   "name": "python2"
  },
  "language_info": {
   "codemirror_mode": {
    "name": "ipython",
    "version": 2
   },
   "file_extension": ".py",
   "mimetype": "text/x-python",
   "name": "python",
   "nbconvert_exporter": "python",
   "pygments_lexer": "ipython2",
   "version": "2.7.16"
  }
 },
 "nbformat": 4,
 "nbformat_minor": 2
}
